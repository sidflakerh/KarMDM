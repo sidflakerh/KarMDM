{
 "cells": [
  {
   "cell_type": "code",
   "execution_count": 1,
   "metadata": {},
   "outputs": [],
   "source": [
    "import os\n",
    "import pandas as pd\n",
    "import numpy as np\n",
    "#import matplotlib.pyplot as plt\n",
    "\n"
   ]
  },
  {
   "cell_type": "code",
   "execution_count": 2,
   "metadata": {},
   "outputs": [
    {
     "name": "stdout",
     "output_type": "stream",
     "text": [
      "Enter the year for which dataset needs to be loaded: 2017\n"
     ]
    }
   ],
   "source": [
    "#Fetch the year\n",
    "link = os.getcwd()\n",
    "#type(link)\n",
    "readDict = \"/DataDictionary.csv\"\n",
    "location = link + readDict\n",
    "dictDf = pd.read_csv(location)\n",
    "#Switch case for year input\n",
    "def year(yearInp):\n",
    "    return {\n",
    "        2016: 2016,\n",
    "        2017: 2017\n",
    "    }.get(yearInp, \"Invalid Input\")\n",
    "selectedYear = year(int(input(\"Enter the year for which dataset needs to be loaded: \")))\n",
    "while(selectedYear == \"Invalid Input\"):\n",
    "    print(\"Enter range between 2016-2017!\")\n",
    "    selectedYear = year(int(input(\"Enter the year for which dataset needs to be loaded: \")))\n",
    "selectedYear = str(selectedYear)\n",
    "fileNameString = \"File.Name\" + selectedYear\n",
    "dateFileAccess = dictDf[fileNameString]\n",
    "#day = int(input(\"Enter the day for which data is needed for the Month December \" + selectedYear +\": \"))\n",
    "#fileName = dateFileAccess[day-1]\n",
    "#fileDirectoryName = \"/DataSet-December\" + selectedYear +\"/\"+ fileName + \".csv\"\n",
    "#fileDirectoryName\n",
    "#filePath = link + fileDirectoryName\n",
    "#dayDf = pd.read_csv(filePath)\n",
    "#dayDf\n",
    "#Extraction Complete\n"
   ]
  },
  {
   "cell_type": "code",
   "execution_count": 4,
   "metadata": {},
   "outputs": [],
   "source": [
    "agg = []\n",
    "for day in range(0,31):\n",
    "#day = int(input(\"Enter the day for which data is needed for the Month December \" + selectedYear +\": \"))\n",
    "    fileName = dateFileAccess[day]\n",
    "    fileDirectoryName = \"/DataSet-December\" + selectedYear +\"/\"+ fileName + \".csv\"\n",
    "    filePath = link + fileDirectoryName\n",
    "    dayDf = pd.read_csv(filePath)\n",
    "#agg = []\n",
    "    agg.append(sum(dayDf['No.of.Students.Class.1.5']))\n",
    "\n",
    "\n",
    "#total1_5_2016 = sum(dayDf['No.of.Students.Class.1.5'])"
   ]
  },
  {
   "cell_type": "code",
   "execution_count": 5,
   "metadata": {},
   "outputs": [
    {
     "data": {
      "text/plain": [
       "1586462.0967741935"
      ]
     },
     "execution_count": 5,
     "metadata": {},
     "output_type": "execute_result"
    }
   ],
   "source": [
    "#2016 aggregation\n",
    "total1_5_2016 = agg\n",
    "#total1_5_2016\n",
    "agg1_5_2016 = pd.DataFrame({'total1_5_2016':total1_5_2016})\n",
    "#agg1_5_2016.to_csv(\"enrol2016.csv\")\n",
    "mean2016 = agg1_5_2016['total1_5_2016'].mean()\n",
    "mean2016"
   ]
  },
  {
   "cell_type": "code",
   "execution_count": 60,
   "metadata": {},
   "outputs": [
    {
     "data": {
      "text/plain": [
       "1586462.0967741935"
      ]
     },
     "execution_count": 60,
     "metadata": {},
     "output_type": "execute_result"
    }
   ],
   "source": [
    "#2017 aggregation\n",
    "total1_5_2017 = agg\n",
    "#total1_5_2017\n",
    "agg1_5_2017 = pd.DataFrame({'total1_5_2017':total1_5_2017})\n",
    "#agg1_5_2017.to_csv(\"enrol2017.csv\")\n",
    "mean2017 = agg1_5_2017['total1_5_2017'].mean()\n",
    "mean2017"
   ]
  },
  {
   "cell_type": "code",
   "execution_count": 62,
   "metadata": {
    "collapsed": true
   },
   "outputs": [],
   "source": [
    "#Percentage Schools Reported 2016\n",
    "percent_agg2016 = []\n",
    "for day in range(0,31):\n",
    "\n",
    "    fileName = dateFileAccess[day]\n",
    "    fileDirectoryName = \"/DataSet-December\" + selectedYear +\"/\"+ fileName + \".csv\"\n",
    "    filePath = link + fileDirectoryName\n",
    "    dayDf = pd.read_csv(filePath)\n",
    "    percent_agg2016.append(dayDf['Percentage.Schools.Reported'].mean())\n",
    "#percent_agg2016"
   ]
  },
  {
   "cell_type": "code",
   "execution_count": 63,
   "metadata": {},
   "outputs": [
    {
     "data": {
      "text/plain": [
       "31.65559772296015"
      ]
     },
     "execution_count": 63,
     "metadata": {},
     "output_type": "execute_result"
    }
   ],
   "source": [
    "#2016 percent report aggregation\n",
    "report_percent = percent_agg2016\n",
    "report_percent2016 = pd.DataFrame({'report_percent':report_percent})\n",
    "meanpercent2016 = report_percent2016['report_percent'].mean()\n",
    "meanpercent2016"
   ]
  },
  {
   "cell_type": "code",
   "execution_count": 65,
   "metadata": {
    "collapsed": true
   },
   "outputs": [],
   "source": [
    "#Percentage data reported Reported 2017\n",
    "percent_agg2017 = []\n",
    "for day in range(0,31):\n",
    "\n",
    "    fileName = dateFileAccess[day]\n",
    "    fileDirectoryName = \"/DataSet-December\" + selectedYear +\"/\"+ fileName + \".csv\"\n",
    "    filePath = link + fileDirectoryName\n",
    "    dayDf = pd.read_csv(filePath)\n",
    "    percent_agg2017.append(dayDf['Percentage.Schools.Reported'].mean())\n",
    "#percent_agg2017"
   ]
  },
  {
   "cell_type": "code",
   "execution_count": 66,
   "metadata": {},
   "outputs": [
    {
     "data": {
      "text/plain": [
       "63.352371916508524"
      ]
     },
     "execution_count": 66,
     "metadata": {},
     "output_type": "execute_result"
    }
   ],
   "source": [
    "#2017 percent report aggregation\n",
    "report_percent = percent_agg2017\n",
    "report_percent2017 = pd.DataFrame({'report_percent':report_percent})\n",
    "meanpercent2017 = report_percent2017['report_percent'].mean()\n",
    "meanpercent2017"
   ]
  },
  {
   "cell_type": "code",
   "execution_count": 10,
   "metadata": {},
   "outputs": [],
   "source": [
    "agg = []\n",
    "for day in range(0,31):\n",
    "#day = int(input(\"Enter the day for which data is needed for the Month December \" + selectedYear +\": \"))\n",
    "    fileName = dateFileAccess[day]\n",
    "    fileDirectoryName = \"/DataSet-December\" + selectedYear +\"/\"+ fileName + \".csv\"\n",
    "    filePath = link + fileDirectoryName\n",
    "    dayDf = pd.read_csv(filePath)\n",
    "#agg = []\n",
    "    agg.append(dayDf['No.of.Students.Class.1.5'])\n",
    "    "
   ]
  },
  {
   "cell_type": "code",
   "execution_count": 14,
   "metadata": {},
   "outputs": [
    {
     "data": {
      "text/plain": [
       "34"
      ]
     },
     "execution_count": 14,
     "metadata": {},
     "output_type": "execute_result"
    }
   ],
   "source": [
    "#\n",
    "listDf = pd.DataFrame.from_records(agg)\n",
    "listDf\n",
    "districtDict = {0:\"BAGALKOT\",1:\"BALLARI\",2:\"BELAGAVI\",3:\"BELAGAVI CHIKKODI\",4:\"BENGALURU RURAL\",5:\"BENGALURU U NORTH\",6:\"BENGALURU U SOUTH\",7:\"BIDAR\",8:\"CHAMARAJANAGARA\",9:\"CHIKKABALLAPURA\",10:\"CHIKKAMAGALURU\",11:\"CHITRADURGA\",12:\"DAKSHINA KANNADA\",13:\"DAVANAGERE\",14:\"DHARWAD\",15:\"GADAG\",16:\"HASSAN\",17:\"HAVERI\",18:\"KALABURGI\",19:\"KODAGU\",20:\"KOLAR\",21:\"KOPPAL\",22:\"MANDYA\",23:\"MYSURU\",24:\"RAICHUR\",25:\"RAMANAGARA\",26:\"SHIVAMOGGA\",27:\"TUMAKURU\",28:\"TUMAKURU MADHUGIRI\",29:\"UDUPI\",30:\"UTTARA KANNADA\",31:\"UTTARA KANNADA SIRSI\",32:\"VIJAYAPURA\",33:\"YADAGIRI\"}\n",
    "districtDict\n",
    "listDf\n",
    "maxlist = []\n",
    "for i in range(0,34):\n",
    "    maxlist.append(max(listDf[i]))\n",
    "len(maxlist)\n",
    "    "
   ]
  },
  {
   "cell_type": "code",
   "execution_count": 13,
   "metadata": {},
   "outputs": [
    {
     "data": {
      "text/html": [
       "<div>\n",
       "<style>\n",
       "    .dataframe thead tr:only-child th {\n",
       "        text-align: right;\n",
       "    }\n",
       "\n",
       "    .dataframe thead th {\n",
       "        text-align: left;\n",
       "    }\n",
       "\n",
       "    .dataframe tbody tr th {\n",
       "        vertical-align: top;\n",
       "    }\n",
       "</style>\n",
       "<table border=\"1\" class=\"dataframe\">\n",
       "  <thead>\n",
       "    <tr style=\"text-align: right;\">\n",
       "      <th></th>\n",
       "      <th>Eligible.schools</th>\n",
       "      <th>Correct.SMS</th>\n",
       "      <th>No.of.Teachers.Attended</th>\n",
       "      <th>No.of.Students.Class.1.5</th>\n",
       "      <th>No.of.Students.Class.6.8</th>\n",
       "      <th>No.of.Students.Class.8.10</th>\n",
       "      <th>Total.No.of.Students.Beneficiaries</th>\n",
       "      <th>Percentage.Schools.Reported</th>\n",
       "    </tr>\n",
       "  </thead>\n",
       "  <tbody>\n",
       "    <tr>\n",
       "      <th>Eligible.schools</th>\n",
       "      <td>1.000000</td>\n",
       "      <td>0.876976</td>\n",
       "      <td>0.654860</td>\n",
       "      <td>0.433564</td>\n",
       "      <td>0.461236</td>\n",
       "      <td>0.498181</td>\n",
       "      <td>0.460639</td>\n",
       "      <td>-0.060465</td>\n",
       "    </tr>\n",
       "    <tr>\n",
       "      <th>Correct.SMS</th>\n",
       "      <td>0.876976</td>\n",
       "      <td>1.000000</td>\n",
       "      <td>0.762545</td>\n",
       "      <td>0.482133</td>\n",
       "      <td>0.556043</td>\n",
       "      <td>0.670329</td>\n",
       "      <td>0.545222</td>\n",
       "      <td>0.407137</td>\n",
       "    </tr>\n",
       "    <tr>\n",
       "      <th>No.of.Teachers.Attended</th>\n",
       "      <td>0.654860</td>\n",
       "      <td>0.762545</td>\n",
       "      <td>1.000000</td>\n",
       "      <td>0.852120</td>\n",
       "      <td>0.905509</td>\n",
       "      <td>0.923756</td>\n",
       "      <td>0.895501</td>\n",
       "      <td>0.360485</td>\n",
       "    </tr>\n",
       "    <tr>\n",
       "      <th>No.of.Students.Class.1.5</th>\n",
       "      <td>0.433564</td>\n",
       "      <td>0.482133</td>\n",
       "      <td>0.852120</td>\n",
       "      <td>1.000000</td>\n",
       "      <td>0.974555</td>\n",
       "      <td>0.878582</td>\n",
       "      <td>0.989085</td>\n",
       "      <td>0.167384</td>\n",
       "    </tr>\n",
       "    <tr>\n",
       "      <th>No.of.Students.Class.6.8</th>\n",
       "      <td>0.461236</td>\n",
       "      <td>0.556043</td>\n",
       "      <td>0.905509</td>\n",
       "      <td>0.974555</td>\n",
       "      <td>1.000000</td>\n",
       "      <td>0.957057</td>\n",
       "      <td>0.996360</td>\n",
       "      <td>0.277755</td>\n",
       "    </tr>\n",
       "    <tr>\n",
       "      <th>No.of.Students.Class.8.10</th>\n",
       "      <td>0.498181</td>\n",
       "      <td>0.670329</td>\n",
       "      <td>0.923756</td>\n",
       "      <td>0.878582</td>\n",
       "      <td>0.957057</td>\n",
       "      <td>1.000000</td>\n",
       "      <td>0.938531</td>\n",
       "      <td>0.441975</td>\n",
       "    </tr>\n",
       "    <tr>\n",
       "      <th>Total.No.of.Students.Beneficiaries</th>\n",
       "      <td>0.460639</td>\n",
       "      <td>0.545222</td>\n",
       "      <td>0.895501</td>\n",
       "      <td>0.989085</td>\n",
       "      <td>0.996360</td>\n",
       "      <td>0.938531</td>\n",
       "      <td>1.000000</td>\n",
       "      <td>0.250744</td>\n",
       "    </tr>\n",
       "    <tr>\n",
       "      <th>Percentage.Schools.Reported</th>\n",
       "      <td>-0.060465</td>\n",
       "      <td>0.407137</td>\n",
       "      <td>0.360485</td>\n",
       "      <td>0.167384</td>\n",
       "      <td>0.277755</td>\n",
       "      <td>0.441975</td>\n",
       "      <td>0.250744</td>\n",
       "      <td>1.000000</td>\n",
       "    </tr>\n",
       "  </tbody>\n",
       "</table>\n",
       "</div>"
      ],
      "text/plain": [
       "                                    Eligible.schools  Correct.SMS  \\\n",
       "Eligible.schools                            1.000000     0.876976   \n",
       "Correct.SMS                                 0.876976     1.000000   \n",
       "No.of.Teachers.Attended                     0.654860     0.762545   \n",
       "No.of.Students.Class.1.5                    0.433564     0.482133   \n",
       "No.of.Students.Class.6.8                    0.461236     0.556043   \n",
       "No.of.Students.Class.8.10                   0.498181     0.670329   \n",
       "Total.No.of.Students.Beneficiaries          0.460639     0.545222   \n",
       "Percentage.Schools.Reported                -0.060465     0.407137   \n",
       "\n",
       "                                    No.of.Teachers.Attended  \\\n",
       "Eligible.schools                                   0.654860   \n",
       "Correct.SMS                                        0.762545   \n",
       "No.of.Teachers.Attended                            1.000000   \n",
       "No.of.Students.Class.1.5                           0.852120   \n",
       "No.of.Students.Class.6.8                           0.905509   \n",
       "No.of.Students.Class.8.10                          0.923756   \n",
       "Total.No.of.Students.Beneficiaries                 0.895501   \n",
       "Percentage.Schools.Reported                        0.360485   \n",
       "\n",
       "                                    No.of.Students.Class.1.5  \\\n",
       "Eligible.schools                                    0.433564   \n",
       "Correct.SMS                                         0.482133   \n",
       "No.of.Teachers.Attended                             0.852120   \n",
       "No.of.Students.Class.1.5                            1.000000   \n",
       "No.of.Students.Class.6.8                            0.974555   \n",
       "No.of.Students.Class.8.10                           0.878582   \n",
       "Total.No.of.Students.Beneficiaries                  0.989085   \n",
       "Percentage.Schools.Reported                         0.167384   \n",
       "\n",
       "                                    No.of.Students.Class.6.8  \\\n",
       "Eligible.schools                                    0.461236   \n",
       "Correct.SMS                                         0.556043   \n",
       "No.of.Teachers.Attended                             0.905509   \n",
       "No.of.Students.Class.1.5                            0.974555   \n",
       "No.of.Students.Class.6.8                            1.000000   \n",
       "No.of.Students.Class.8.10                           0.957057   \n",
       "Total.No.of.Students.Beneficiaries                  0.996360   \n",
       "Percentage.Schools.Reported                         0.277755   \n",
       "\n",
       "                                    No.of.Students.Class.8.10  \\\n",
       "Eligible.schools                                     0.498181   \n",
       "Correct.SMS                                          0.670329   \n",
       "No.of.Teachers.Attended                              0.923756   \n",
       "No.of.Students.Class.1.5                             0.878582   \n",
       "No.of.Students.Class.6.8                             0.957057   \n",
       "No.of.Students.Class.8.10                            1.000000   \n",
       "Total.No.of.Students.Beneficiaries                   0.938531   \n",
       "Percentage.Schools.Reported                          0.441975   \n",
       "\n",
       "                                    Total.No.of.Students.Beneficiaries  \\\n",
       "Eligible.schools                                              0.460639   \n",
       "Correct.SMS                                                   0.545222   \n",
       "No.of.Teachers.Attended                                       0.895501   \n",
       "No.of.Students.Class.1.5                                      0.989085   \n",
       "No.of.Students.Class.6.8                                      0.996360   \n",
       "No.of.Students.Class.8.10                                     0.938531   \n",
       "Total.No.of.Students.Beneficiaries                            1.000000   \n",
       "Percentage.Schools.Reported                                   0.250744   \n",
       "\n",
       "                                    Percentage.Schools.Reported  \n",
       "Eligible.schools                                      -0.060465  \n",
       "Correct.SMS                                            0.407137  \n",
       "No.of.Teachers.Attended                                0.360485  \n",
       "No.of.Students.Class.1.5                               0.167384  \n",
       "No.of.Students.Class.6.8                               0.277755  \n",
       "No.of.Students.Class.8.10                              0.441975  \n",
       "Total.No.of.Students.Beneficiaries                     0.250744  \n",
       "Percentage.Schools.Reported                            1.000000  "
      ]
     },
     "execution_count": 13,
     "metadata": {},
     "output_type": "execute_result"
    }
   ],
   "source": [
    "#Corr\n",
    "colList = ['Eligible.schools','Correct.SMS','No.of.Teachers.Attended','No.of.Students.Class.1.5','No.of.Students.Class.6.8','No.of.Students.Class.8.10','Total.No.of.Students.Beneficiaries','Percentage.Schools.Reported']\n",
    "dayDf = dayDf[colList] \n",
    "corDf = dayDf[['No.of.Teachers.Attended','Total.No.of.Students.Beneficiaries']].copy()\n",
    "#corDf\n",
    "cor = dayDf.corr(method='pearson', min_periods=1)\n",
    "cor"
   ]
  }
 ],
 "metadata": {
  "kernelspec": {
   "display_name": "Python 3",
   "language": "python",
   "name": "python3"
  },
  "language_info": {
   "codemirror_mode": {
    "name": "ipython",
    "version": 3
   },
   "file_extension": ".py",
   "mimetype": "text/x-python",
   "name": "python",
   "nbconvert_exporter": "python",
   "pygments_lexer": "ipython3",
   "version": "3.7.3"
  }
 },
 "nbformat": 4,
 "nbformat_minor": 2
}
