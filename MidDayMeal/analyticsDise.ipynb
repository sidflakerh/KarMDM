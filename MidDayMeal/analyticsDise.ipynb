{
 "cells": [
  {
   "cell_type": "code",
   "execution_count": 26,
   "metadata": {
    "collapsed": true
   },
   "outputs": [],
   "source": [
    "import os\n",
    "import pandas as pd\n",
    "import numpy as np"
   ]
  },
  {
   "cell_type": "code",
   "execution_count": 64,
   "metadata": {},
   "outputs": [
    {
     "data": {
      "text/plain": [
       "Year                                           2015-16\n",
       "STATCD                                              29\n",
       "DISTCD                                            2901\n",
       "STATNAME                                     KARNATAKA\n",
       "DISTNAME                                       BELGAUM\n",
       "DISTRICTS                                            1\n",
       "BLOCKS                                               6\n",
       "VILLAGES                                           807\n",
       "CLUSTERS                                           126\n",
       "Total Population(in 1000's)                4.17047e+06\n",
       "Percentage Urban Population                      29.47\n",
       "Percentage Population of Age Group 0-6          423302\n",
       "Growth Rate                                      11.33\n",
       "Sex Ratio                                         1002\n",
       "Percentage SC Population                         18.83\n",
       "Percentage ST Population                          3.81\n",
       "Literacy Rate                                    72.36\n",
       "Female Literacy Rate                             63.65\n",
       "Male Literacy Rate                               81.15\n",
       "Area (Sq. KM)                                    15152\n",
       "Age Group 6 to 10                               321957\n",
       "Age Group 11 to 13                              209615\n",
       "variable                                  Primary Only\n",
       "value                                             4220\n",
       "Name: 0, dtype: object"
      ]
     },
     "execution_count": 64,
     "metadata": {},
     "output_type": "execute_result"
    }
   ],
   "source": [
    "demographDf = pd.read_csv(\"detailed_demographic.csv\")\n",
    "reshape = pd.melt(demographDf,id_vars=[\"Year\",\"STATCD\",\"DISTCD\",\"STATNAME\",\"DISTNAME\",\"DISTRICTS\",\"BLOCKS\",\"VILLAGES\",\"CLUSTERS\",\"Total Population(in 1000's)\",\"Percentage Urban Population\",\"Percentage Population of Age Group 0-6\",\"Growth Rate\",\"Sex Ratio\",\"Percentage SC Population\",\"Percentage ST Population\",\"Literacy Rate\",\"Female Literacy Rate\",\"Male Literacy Rate\",\"Area (Sq. KM)\",\"Age Group 6 to 10\",\"Age Group 11 to 13\"\n",
    "])\n",
    "transDf1 = reshape[reshape[\"variable\"] == \"Primary Only\"]\n",
    "#reshape[\"variable\",\"value\"]\n",
    "transDf1.loc[transDf1['Age Group 6 to 10'].idxmax()]\n",
    "#Use Case 1 CHIKKABALLAPURA has got highest population of age group 0-6\n",
    "#Let us see wheather the mid day meal data match up with this"
   ]
  },
  {
   "cell_type": "code",
   "execution_count": null,
   "metadata": {
    "collapsed": true
   },
   "outputs": [],
   "source": []
  }
 ],
 "metadata": {
  "kernelspec": {
   "display_name": "Python 3",
   "language": "python",
   "name": "python3"
  },
  "language_info": {
   "codemirror_mode": {
    "name": "ipython",
    "version": 3
   },
   "file_extension": ".py",
   "mimetype": "text/x-python",
   "name": "python",
   "nbconvert_exporter": "python",
   "pygments_lexer": "ipython3",
   "version": "3.7.3"
  }
 },
 "nbformat": 4,
 "nbformat_minor": 2
}
